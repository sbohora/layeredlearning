{
 "cells": [
  {
   "cell_type": "markdown",
   "metadata": {},
   "source": [
    "### Multiprocesing in Python"
   ]
  },
  {
   "cell_type": "code",
   "execution_count": 47,
   "metadata": {},
   "outputs": [],
   "source": [
    "import numpy as np\n",
    "import pandas as pd\n",
    "from multiprocessing import cpu_count, Pool\n",
    "import string\n",
    "from random_words import RandomWords\n",
    "UPPER_CASE = string.ascii_uppercase\n"
   ]
  },
  {
   "cell_type": "code",
   "execution_count": 50,
   "metadata": {},
   "outputs": [
    {
     "data": {
      "text/plain": [
       "0.35714285714285715"
      ]
     },
     "execution_count": 50,
     "metadata": {},
     "output_type": "execute_result"
    }
   ],
   "source": [
    "5/14"
   ]
  },
  {
   "cell_type": "code",
   "execution_count": 52,
   "metadata": {},
   "outputs": [
    {
     "data": {
      "text/plain": [
       "0.58840894245798037"
      ]
     },
     "execution_count": 52,
     "metadata": {},
     "output_type": "execute_result"
    }
   ],
   "source": [
    "np.log((1-0.357)/0.357)"
   ]
  },
  {
   "cell_type": "code",
   "execution_count": 53,
   "metadata": {},
   "outputs": [
    {
     "data": {
      "text/plain": [
       "0.58778666490211906"
      ]
     },
     "execution_count": 53,
     "metadata": {},
     "output_type": "execute_result"
    }
   ],
   "source": [
    "np.log(9/5)"
   ]
  },
  {
   "cell_type": "code",
   "execution_count": 55,
   "metadata": {},
   "outputs": [
    {
     "data": {
      "text/plain": [
       "0.91629073187415511"
      ]
     },
     "execution_count": 55,
     "metadata": {},
     "output_type": "execute_result"
    }
   ],
   "source": [
    "np.log((1-4/14)/(4/14))"
   ]
  },
  {
   "cell_type": "markdown",
   "metadata": {},
   "source": [
    "### Generate Data"
   ]
  },
  {
   "cell_type": "code",
   "execution_count": 49,
   "metadata": {},
   "outputs": [
    {
     "data": {
      "text/plain": [
       "['vehicles',\n",
       " 'setup',\n",
       " 'helmsmen',\n",
       " 'jack',\n",
       " 'inference',\n",
       " 'files',\n",
       " 'talk',\n",
       " 'rockets',\n",
       " 'industry',\n",
       " 'zone',\n",
       " 'line',\n",
       " 'letter',\n",
       " 'walk',\n",
       " 'splash',\n",
       " 'substance',\n",
       " 'washes',\n",
       " 'shortages',\n",
       " 'journeys',\n",
       " 'drainer',\n",
       " 'cardboard',\n",
       " 'associate',\n",
       " 'rust',\n",
       " 'boots',\n",
       " 'cleanliness',\n",
       " 'liter',\n",
       " 'lanes',\n",
       " 'splice',\n",
       " 'television',\n",
       " 'launchers',\n",
       " 'annexs',\n",
       " 'stretcher',\n",
       " 'acquittals',\n",
       " 'outboards',\n",
       " 'overcoat',\n",
       " 'holes',\n",
       " 'punctures',\n",
       " 'cone',\n",
       " 'freights',\n",
       " 'silence',\n",
       " 'twine',\n",
       " 'dose',\n",
       " 'mention',\n",
       " 'alleys',\n",
       " 'mailboxes',\n",
       " 'offices',\n",
       " 'semaphore',\n",
       " 'conjectures',\n",
       " 'house',\n",
       " 'parallels',\n",
       " 'telephone',\n",
       " 'fighters',\n",
       " 'army',\n",
       " 'sting',\n",
       " 'speaker',\n",
       " 'sprayers',\n",
       " 'february',\n",
       " 'circuitry',\n",
       " 'marbles',\n",
       " 'writers',\n",
       " 'resources',\n",
       " 'apples',\n",
       " 'remainders',\n",
       " 'sail',\n",
       " 'top',\n",
       " 'hill',\n",
       " 'listing',\n",
       " 'shed',\n",
       " 'analyzer',\n",
       " 'removal',\n",
       " 'countermeasures',\n",
       " 'statement',\n",
       " 'baud',\n",
       " 'prerequisite',\n",
       " 'morals',\n",
       " 'abuser',\n",
       " 'stone',\n",
       " 'wafers',\n",
       " 'currency',\n",
       " 'dew',\n",
       " 'retrievals',\n",
       " 'conn',\n",
       " 'shades',\n",
       " 'ensign',\n",
       " 'insulation',\n",
       " 'chit',\n",
       " 'studies',\n",
       " 'pea',\n",
       " 'society',\n",
       " 'decimals',\n",
       " 'crowds',\n",
       " 'pocket',\n",
       " 'glossaries',\n",
       " 'swells',\n",
       " 'exhaust',\n",
       " 'abrasions',\n",
       " 'provisions',\n",
       " 'surveillance',\n",
       " 'excuses',\n",
       " 'fur',\n",
       " 'file',\n",
       " 'subjects',\n",
       " 'calories',\n",
       " 'chin',\n",
       " 'gland',\n",
       " 'assistance',\n",
       " 'acceptance',\n",
       " 'meridians',\n",
       " 'bridges',\n",
       " 'submarines',\n",
       " 'fluid',\n",
       " 'silks',\n",
       " 'shots',\n",
       " 'electron',\n",
       " 'hose',\n",
       " 'admission',\n",
       " 'detent',\n",
       " 'fiction',\n",
       " 'merchandise',\n",
       " 'disasters',\n",
       " 'tune',\n",
       " 'programmers',\n",
       " 'focus',\n",
       " 'activity',\n",
       " 'manifest',\n",
       " 'education',\n",
       " 'gulf',\n",
       " 'draft',\n",
       " 'drag',\n",
       " 'suns',\n",
       " 'sips',\n",
       " 'sleep',\n",
       " 'auxiliaries',\n",
       " 'fellows',\n",
       " 'entrances',\n",
       " 'waves',\n",
       " 'detachment',\n",
       " 'independence',\n",
       " 'definitions',\n",
       " 'interpreter',\n",
       " 'grooves',\n",
       " 'match',\n",
       " 'propellers',\n",
       " 'debts',\n",
       " 'supermarket',\n",
       " 'misfit',\n",
       " 'mailbox',\n",
       " 'pool',\n",
       " 'valley',\n",
       " 'developments',\n",
       " 'pedals',\n",
       " 'spear',\n",
       " 'truth',\n",
       " 'engineer',\n",
       " 'owners',\n",
       " 'aircraft',\n",
       " 'mechanics',\n",
       " 'raise',\n",
       " 'integrity',\n",
       " 'object',\n",
       " 'carbon',\n",
       " 'toothpick',\n",
       " 'feet',\n",
       " 'authorizations',\n",
       " 'paygrade',\n",
       " 'misalinement',\n",
       " 'conference',\n",
       " 'load',\n",
       " 'stalls',\n",
       " 'crewmembers',\n",
       " 'grooms',\n",
       " 'rain',\n",
       " 'zero',\n",
       " 'master',\n",
       " 'features',\n",
       " 'blast',\n",
       " 'raincoats',\n",
       " 'haul',\n",
       " 'diode',\n",
       " 'property',\n",
       " 'priorities',\n",
       " 'victims',\n",
       " 'instructions',\n",
       " 'jackets',\n",
       " 'burglary',\n",
       " 'focuses',\n",
       " 'reliability',\n",
       " 'doors',\n",
       " 'destruction',\n",
       " 'thimble',\n",
       " 'educator',\n",
       " 'slate',\n",
       " 'terminologies',\n",
       " 'privates',\n",
       " 'view',\n",
       " 'arm',\n",
       " 'interval',\n",
       " 'documents',\n",
       " 'flake',\n",
       " 'macros',\n",
       " 'taps']"
      ]
     },
     "execution_count": 49,
     "metadata": {},
     "output_type": "execute_result"
    }
   ],
   "source": [
    "rw = RandomWords()\n",
    "rw_100 = rw.random_words(count=100)\n",
    "rw_300 = rw.random_words(count=300)\n",
    "rw_1000 = rw.random_words(count=1000)\n",
    "rw_3000 = rw.random_words(count=3000)"
   ]
  },
  {
   "cell_type": "code",
   "execution_count": 46,
   "metadata": {},
   "outputs": [
    {
     "data": {
      "text/plain": [
       "array([[ 0.31521169,  0.86364029,  0.53813411, ...,  0.57844861,\n",
       "         0.16898996,  0.24873994],\n",
       "       [ 0.0194218 ,  0.55197997,  0.24559965, ...,  0.67913989,\n",
       "         0.97357704,  0.26168182],\n",
       "       [ 0.67164623,  0.69082836,  0.96549656, ...,  0.76078041,\n",
       "         0.79138647,  0.51118184],\n",
       "       ..., \n",
       "       [ 0.15569228,  0.60526002,  0.70190208, ...,  0.58256324,\n",
       "         0.61171102,  0.09164732],\n",
       "       [ 0.43042792,  0.16801718,  0.60701574, ...,  0.36331878,\n",
       "         0.64333249,  0.32581674],\n",
       "       [ 0.59729882,  0.91843281,  0.50513517, ...,  0.38281613,\n",
       "         0.92463415,  0.33516988]])"
      ]
     },
     "execution_count": 46,
     "metadata": {},
     "output_type": "execute_result"
    }
   ],
   "source": [
    "np.random.random((500,20))"
   ]
  },
  {
   "cell_type": "code",
   "execution_count": 37,
   "metadata": {
    "collapsed": true
   },
   "outputs": [],
   "source": [
    "df_5M = pd.DataFrame(np.random.randint(low = -10000, high = 10000, size = (5000000,20)))"
   ]
  },
  {
   "cell_type": "code",
   "execution_count": 38,
   "metadata": {
    "collapsed": true
   },
   "outputs": [],
   "source": [
    "# simple example of parallelizing filling nulls\n",
    "def parallelize(data, func):\n",
    "    cores = cpu_count() \n",
    "    print('number of cores %d' % cores)\n",
    "    data_split = np.array_split(data, cores)\n",
    "    pool = Pool(cores)\n",
    "    data = pd.concat(pool.map(func, data_split))\n",
    "    pool.close()\n",
    "    pool.join()\n",
    "    return data"
   ]
  },
  {
   "cell_type": "code",
   "execution_count": 39,
   "metadata": {},
   "outputs": [
    {
     "data": {
      "text/html": [
       "<div>\n",
       "<style scoped>\n",
       "    .dataframe tbody tr th:only-of-type {\n",
       "        vertical-align: middle;\n",
       "    }\n",
       "\n",
       "    .dataframe tbody tr th {\n",
       "        vertical-align: top;\n",
       "    }\n",
       "\n",
       "    .dataframe thead th {\n",
       "        text-align: right;\n",
       "    }\n",
       "</style>\n",
       "<table border=\"1\" class=\"dataframe\">\n",
       "  <thead>\n",
       "    <tr style=\"text-align: right;\">\n",
       "      <th></th>\n",
       "      <th>0</th>\n",
       "      <th>1</th>\n",
       "      <th>2</th>\n",
       "      <th>3</th>\n",
       "      <th>4</th>\n",
       "      <th>5</th>\n",
       "      <th>6</th>\n",
       "      <th>7</th>\n",
       "      <th>8</th>\n",
       "      <th>9</th>\n",
       "      <th>10</th>\n",
       "      <th>11</th>\n",
       "      <th>12</th>\n",
       "      <th>13</th>\n",
       "      <th>14</th>\n",
       "      <th>15</th>\n",
       "      <th>16</th>\n",
       "      <th>17</th>\n",
       "      <th>18</th>\n",
       "      <th>19</th>\n",
       "    </tr>\n",
       "  </thead>\n",
       "  <tbody>\n",
       "    <tr>\n",
       "      <th>0</th>\n",
       "      <td>7949</td>\n",
       "      <td>3686</td>\n",
       "      <td>1403</td>\n",
       "      <td>-637</td>\n",
       "      <td>-904</td>\n",
       "      <td>-3349</td>\n",
       "      <td>-3120</td>\n",
       "      <td>584</td>\n",
       "      <td>6103</td>\n",
       "      <td>8500</td>\n",
       "      <td>-6897</td>\n",
       "      <td>5300</td>\n",
       "      <td>-6111</td>\n",
       "      <td>-432</td>\n",
       "      <td>-1840</td>\n",
       "      <td>-7581</td>\n",
       "      <td>3626</td>\n",
       "      <td>1976</td>\n",
       "      <td>-6926</td>\n",
       "      <td>-7424</td>\n",
       "    </tr>\n",
       "    <tr>\n",
       "      <th>1</th>\n",
       "      <td>578</td>\n",
       "      <td>-1724</td>\n",
       "      <td>-8487</td>\n",
       "      <td>-4395</td>\n",
       "      <td>-9421</td>\n",
       "      <td>6958</td>\n",
       "      <td>-5249</td>\n",
       "      <td>9064</td>\n",
       "      <td>3593</td>\n",
       "      <td>5620</td>\n",
       "      <td>-2204</td>\n",
       "      <td>-2090</td>\n",
       "      <td>-827</td>\n",
       "      <td>1341</td>\n",
       "      <td>9680</td>\n",
       "      <td>-1009</td>\n",
       "      <td>-5719</td>\n",
       "      <td>4691</td>\n",
       "      <td>-8907</td>\n",
       "      <td>3678</td>\n",
       "    </tr>\n",
       "    <tr>\n",
       "      <th>2</th>\n",
       "      <td>-2184</td>\n",
       "      <td>9227</td>\n",
       "      <td>4050</td>\n",
       "      <td>-9842</td>\n",
       "      <td>8728</td>\n",
       "      <td>5605</td>\n",
       "      <td>-9831</td>\n",
       "      <td>-3353</td>\n",
       "      <td>7598</td>\n",
       "      <td>-3868</td>\n",
       "      <td>-973</td>\n",
       "      <td>-8934</td>\n",
       "      <td>-989</td>\n",
       "      <td>-9159</td>\n",
       "      <td>8643</td>\n",
       "      <td>2189</td>\n",
       "      <td>-8758</td>\n",
       "      <td>-6458</td>\n",
       "      <td>-7412</td>\n",
       "      <td>-9297</td>\n",
       "    </tr>\n",
       "    <tr>\n",
       "      <th>3</th>\n",
       "      <td>-8906</td>\n",
       "      <td>5634</td>\n",
       "      <td>1396</td>\n",
       "      <td>-2623</td>\n",
       "      <td>1005</td>\n",
       "      <td>-4978</td>\n",
       "      <td>-9945</td>\n",
       "      <td>-1204</td>\n",
       "      <td>4440</td>\n",
       "      <td>-1388</td>\n",
       "      <td>-8504</td>\n",
       "      <td>4998</td>\n",
       "      <td>1715</td>\n",
       "      <td>-7445</td>\n",
       "      <td>-3292</td>\n",
       "      <td>-6110</td>\n",
       "      <td>-8272</td>\n",
       "      <td>-9869</td>\n",
       "      <td>2816</td>\n",
       "      <td>-4851</td>\n",
       "    </tr>\n",
       "    <tr>\n",
       "      <th>4</th>\n",
       "      <td>648</td>\n",
       "      <td>8967</td>\n",
       "      <td>1642</td>\n",
       "      <td>-7876</td>\n",
       "      <td>2842</td>\n",
       "      <td>2684</td>\n",
       "      <td>-3600</td>\n",
       "      <td>2390</td>\n",
       "      <td>-539</td>\n",
       "      <td>-3664</td>\n",
       "      <td>-8497</td>\n",
       "      <td>-5374</td>\n",
       "      <td>891</td>\n",
       "      <td>1302</td>\n",
       "      <td>8802</td>\n",
       "      <td>3301</td>\n",
       "      <td>5216</td>\n",
       "      <td>5552</td>\n",
       "      <td>6341</td>\n",
       "      <td>7954</td>\n",
       "    </tr>\n",
       "  </tbody>\n",
       "</table>\n",
       "</div>"
      ],
      "text/plain": [
       "     0     1     2     3     4     5     6     7     8     9     10    11  \\\n",
       "0  7949  3686  1403  -637  -904 -3349 -3120   584  6103  8500 -6897  5300   \n",
       "1   578 -1724 -8487 -4395 -9421  6958 -5249  9064  3593  5620 -2204 -2090   \n",
       "2 -2184  9227  4050 -9842  8728  5605 -9831 -3353  7598 -3868  -973 -8934   \n",
       "3 -8906  5634  1396 -2623  1005 -4978 -9945 -1204  4440 -1388 -8504  4998   \n",
       "4   648  8967  1642 -7876  2842  2684 -3600  2390  -539 -3664 -8497 -5374   \n",
       "\n",
       "     12    13    14    15    16    17    18    19  \n",
       "0 -6111  -432 -1840 -7581  3626  1976 -6926 -7424  \n",
       "1  -827  1341  9680 -1009 -5719  4691 -8907  3678  \n",
       "2  -989 -9159  8643  2189 -8758 -6458 -7412 -9297  \n",
       "3  1715 -7445 -3292 -6110 -8272 -9869  2816 -4851  \n",
       "4   891  1302  8802  3301  5216  5552  6341  7954  "
      ]
     },
     "execution_count": 39,
     "metadata": {},
     "output_type": "execute_result"
    }
   ],
   "source": [
    "df_5M.head()"
   ]
  },
  {
   "cell_type": "markdown",
   "metadata": {},
   "source": [
    "### SUMS"
   ]
  },
  {
   "cell_type": "code",
   "execution_count": 40,
   "metadata": {},
   "outputs": [
    {
     "name": "stdout",
     "output_type": "stream",
     "text": [
      "CPU times: user 4.79 ms, sys: 4.12 ms, total: 8.91 ms\n",
      "Wall time: 7.31 ms\n"
     ]
    }
   ],
   "source": [
    "%time res = df.iloc[:,1:].sum(axis=1)"
   ]
  },
  {
   "cell_type": "code",
   "execution_count": null,
   "metadata": {
    "collapsed": true
   },
   "outputs": [],
   "source": [
    "def droprows(df):\n",
    "    return df.dropna\n",
    "parallelize(df, droprows)"
   ]
  },
  {
   "cell_type": "markdown",
   "metadata": {},
   "source": [
    "### Count the number of 3's in a row"
   ]
  },
  {
   "cell_type": "markdown",
   "metadata": {},
   "source": [
    "### Multiprocessor with different task lengths"
   ]
  },
  {
   "cell_type": "code",
   "execution_count": null,
   "metadata": {
    "collapsed": true
   },
   "outputs": [],
   "source": []
  }
 ],
 "metadata": {
  "kernelspec": {
   "display_name": "Python 3",
   "language": "python",
   "name": "python3"
  },
  "language_info": {
   "codemirror_mode": {
    "name": "ipython",
    "version": 3
   },
   "file_extension": ".py",
   "mimetype": "text/x-python",
   "name": "python",
   "nbconvert_exporter": "python",
   "pygments_lexer": "ipython3",
   "version": "3.6.3"
  }
 },
 "nbformat": 4,
 "nbformat_minor": 2
}
