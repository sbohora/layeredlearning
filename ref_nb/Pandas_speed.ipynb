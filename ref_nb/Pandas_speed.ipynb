{
 "cells": [
  {
   "cell_type": "code",
   "execution_count": 1,
   "metadata": {
    "collapsed": true
   },
   "outputs": [],
   "source": [
    "import pandas as pd\n",
    "import numpy as np\n",
    "import string\n",
    "import ray\n",
    "UPPER_CASE = string.ascii_uppercase"
   ]
  },
  {
   "cell_type": "code",
   "execution_count": 2,
   "metadata": {
    "collapsed": true
   },
   "outputs": [],
   "source": [
    "def generate_vals(n):\n",
    "    return np.random.randint(low = -n, high = n, size = n)\n",
    "\n",
    "def generate_df(p = 20, size= 10000):\n",
    "    letters = np.random.choice(list(UPPER_CASE), size= size)\n",
    "    df = pd.DataFrame({'labels': letters})\n",
    "    for i in range(p):\n",
    "        df['vals'+str(i)] = generate_vals(size)\n",
    "    return df\n",
    "\n",
    "def list_of_df(n = 10, p = 20, size=10000):\n",
    "    return [generate_df(p = p, size=size) for i in range(n)]"
   ]
  },
  {
   "cell_type": "code",
   "execution_count": 3,
   "metadata": {
    "collapsed": true
   },
   "outputs": [],
   "source": [
    "list_df = list_of_df(n=20, p=50, size=100000)"
   ]
  },
  {
   "cell_type": "markdown",
   "metadata": {},
   "source": [
    "### Appending to master data frames, or concatenating all at once"
   ]
  },
  {
   "cell_type": "code",
   "execution_count": 4,
   "metadata": {
    "scrolled": false
   },
   "outputs": [],
   "source": [
    "def append_df():\n",
    "    columns = ['labels'] + ['val'+str(i) for i in range(20)]\n",
    "    base = pd.DataFrame(columns=columns)\n",
    "    for df in list_df:\n",
    "        base.append(df)\n",
    "    return base\n",
    "\n",
    "def concat_df():\n",
    "    return pd.concat(list_df)"
   ]
  },
  {
   "cell_type": "code",
   "execution_count": 5,
   "metadata": {},
   "outputs": [
    {
     "name": "stdout",
     "output_type": "stream",
     "text": [
      "CPU times: user 1.54 s, sys: 1.02 s, total: 2.56 s\n",
      "Wall time: 2.56 s\n"
     ]
    }
   ],
   "source": [
    "%time dfr = append_df() "
   ]
  },
  {
   "cell_type": "code",
   "execution_count": 6,
   "metadata": {},
   "outputs": [
    {
     "name": "stdout",
     "output_type": "stream",
     "text": [
      "CPU times: user 307 ms, sys: 247 ms, total: 553 ms\n",
      "Wall time: 553 ms\n"
     ]
    }
   ],
   "source": [
    "%time dfr = concat_df() "
   ]
  },
  {
   "cell_type": "markdown",
   "metadata": {},
   "source": [
    "### Generate Date strings"
   ]
  },
  {
   "cell_type": "code",
   "execution_count": 22,
   "metadata": {},
   "outputs": [],
   "source": [
    "def gen_date_str():\n",
    "    year = str(np.random.randint(1900,2020))\n",
    "    mon = str(np.random.randint(1,12)).zfill(2)\n",
    "    day = str(np.random.randint(1,29)).zfill(2)\n",
    "    return year + mon + day\n",
    "\n",
    "def gen_rand_date(n):\n",
    "    return [gen_date_str() for i in range(n)]\n",
    "\n",
    "\n",
    "def gen_date_str_vec(n):\n",
    "    year = pd.Series(np.random.randint(1900,2020, size=n)).astype(str)\n",
    "    mon = pd.Series(np.random.randint(1,12, size=n)).astype(str).str.zfill(2)\n",
    "    day = pd.Series(np.random.randint(1,29, size=n)).astype(str).str.zfill(2)\n",
    "    return np.add(np.add(year,mon),day)\n",
    "\n",
    "\n",
    "n = 1000000\n"
   ]
  },
  {
   "cell_type": "code",
   "execution_count": 23,
   "metadata": {},
   "outputs": [
    {
     "name": "stdout",
     "output_type": "stream",
     "text": [
      "CPU times: user 6.54 s, sys: 46.4 ms, total: 6.58 s\n",
      "Wall time: 6.59 s\n"
     ]
    }
   ],
   "source": [
    "%time res = gen_rand_date(n)"
   ]
  },
  {
   "cell_type": "code",
   "execution_count": 24,
   "metadata": {},
   "outputs": [
    {
     "name": "stdout",
     "output_type": "stream",
     "text": [
      "CPU times: user 7.57 s, sys: 154 ms, total: 7.72 s\n",
      "Wall time: 7.72 s\n"
     ]
    }
   ],
   "source": [
    "%time res = gen_date_str_vec(n)"
   ]
  },
  {
   "cell_type": "code",
   "execution_count": 25,
   "metadata": {
    "collapsed": true
   },
   "outputs": [],
   "source": [
    "date_df = pd.DataFrame({'label': np.random.choice(list(UPPER_CASE), size= n), 'date_str': gen_rand_date(n) })"
   ]
  },
  {
   "cell_type": "markdown",
   "metadata": {},
   "source": [
    "### String Accessor methods vs. row by row : SAME"
   ]
  },
  {
   "cell_type": "code",
   "execution_count": 264,
   "metadata": {},
   "outputs": [
    {
     "name": "stdout",
     "output_type": "stream",
     "text": [
      "CPU times: user 304 ms, sys: 31 ms, total: 335 ms\n",
      "Wall time: 335 ms\n"
     ]
    }
   ],
   "source": [
    "%time date_df['year'] = date_df['date_str'].map(lambda x : x[:4])"
   ]
  },
  {
   "cell_type": "code",
   "execution_count": 265,
   "metadata": {},
   "outputs": [
    {
     "name": "stdout",
     "output_type": "stream",
     "text": [
      "CPU times: user 407 ms, sys: 60.3 ms, total: 467 ms\n",
      "Wall time: 499 ms\n"
     ]
    }
   ],
   "source": [
    "%time date_df['year'] = date_df['date_str'].str[:4]"
   ]
  },
  {
   "cell_type": "markdown",
   "metadata": {},
   "source": [
    "### Comparison of parsing dates, row by row vs. vector : SAME"
   ]
  },
  {
   "cell_type": "code",
   "execution_count": 266,
   "metadata": {
    "collapsed": true
   },
   "outputs": [],
   "source": [
    "import datetime"
   ]
  },
  {
   "cell_type": "code",
   "execution_count": 267,
   "metadata": {},
   "outputs": [
    {
     "name": "stdout",
     "output_type": "stream",
     "text": [
      "CPU times: user 1.44 s, sys: 28.7 ms, total: 1.47 s\n",
      "Wall time: 1.49 s\n"
     ]
    }
   ],
   "source": [
    "%time date_df['date'] = date_df['date_str'].map(lambda x : datetime.date(int(x[:4]),int(x[4:6]),int(x[6:8])))"
   ]
  },
  {
   "cell_type": "code",
   "execution_count": 268,
   "metadata": {},
   "outputs": [
    {
     "name": "stdout",
     "output_type": "stream",
     "text": [
      "CPU times: user 1.51 s, sys: 225 ms, total: 1.73 s\n",
      "Wall time: 1.75 s\n"
     ]
    }
   ],
   "source": [
    "def vector_date_conv():\n",
    "    date_df['year'] = date_df['date_str'].str[:4]    \n",
    "    date_df['day'] = date_df['date_str'].str[6:8]\n",
    "    date_df['mon'] = date_df['date_str'].str[4:6]\n",
    "    date_df['format_date'] = date_df['year'] + '-' + date_df['mon'] + '-' + date_df['day']\n",
    "    date_df['date'] = date_df['format_date'].astype('datetime64[ns]')\n",
    "    \n",
    "%time vector_date_conv()"
   ]
  },
  {
   "cell_type": "markdown",
   "metadata": {},
   "source": [
    "### Use the accessor methods for date `.dt` : USE ACCESSORS"
   ]
  },
  {
   "cell_type": "code",
   "execution_count": 269,
   "metadata": {},
   "outputs": [
    {
     "name": "stdout",
     "output_type": "stream",
     "text": [
      "CPU times: user 3.97 s, sys: 364 ms, total: 4.34 s\n",
      "Wall time: 4.48 s\n"
     ]
    }
   ],
   "source": [
    "%time date_df['dow'] = date_df['date'].map(lambda x: x.dayofweek)"
   ]
  },
  {
   "cell_type": "code",
   "execution_count": 270,
   "metadata": {},
   "outputs": [
    {
     "name": "stdout",
     "output_type": "stream",
     "text": [
      "CPU times: user 99.5 ms, sys: 9.19 ms, total: 109 ms\n",
      "Wall time: 122 ms\n"
     ]
    }
   ],
   "source": [
    "%time date_df['dow'] = date_df['date'].dt.dayofweek"
   ]
  },
  {
   "cell_type": "markdown",
   "metadata": {},
   "source": [
    "### Use `nsmallest` instead of sort + tail"
   ]
  },
  {
   "cell_type": "code",
   "execution_count": 271,
   "metadata": {},
   "outputs": [
    {
     "name": "stdout",
     "output_type": "stream",
     "text": [
      "CPU times: user 356 ms, sys: 34 ms, total: 390 ms\n",
      "Wall time: 388 ms\n"
     ]
    },
    {
     "data": {
      "text/plain": [
       "12249   -100000\n",
       "51213   -100000\n",
       "553     -100000\n",
       "81483   -100000\n",
       "158     -100000\n",
       "Name: vals0, dtype: int64"
      ]
     },
     "execution_count": 271,
     "metadata": {},
     "output_type": "execute_result"
    }
   ],
   "source": [
    "%time dfr['vals0'].sort_values().head(5)"
   ]
  },
  {
   "cell_type": "code",
   "execution_count": 272,
   "metadata": {},
   "outputs": [
    {
     "name": "stdout",
     "output_type": "stream",
     "text": [
      "CPU times: user 26.3 ms, sys: 6.47 ms, total: 32.7 ms\n",
      "Wall time: 29.9 ms\n"
     ]
    },
    {
     "data": {
      "text/plain": [
       "12249   -100000\n",
       "51213   -100000\n",
       "81483   -100000\n",
       "82713   -100000\n",
       "158     -100000\n",
       "Name: vals0, dtype: int64"
      ]
     },
     "execution_count": 272,
     "metadata": {},
     "output_type": "execute_result"
    }
   ],
   "source": [
    "%time dfr['vals0'].nsmallest(5)"
   ]
  },
  {
   "cell_type": "markdown",
   "metadata": {},
   "source": [
    "### Passing a function row by row, or vectorize : VECTORIZE"
   ]
  },
  {
   "cell_type": "code",
   "execution_count": 273,
   "metadata": {},
   "outputs": [
    {
     "data": {
      "text/plain": [
       "(2000000, 51)"
      ]
     },
     "execution_count": 273,
     "metadata": {},
     "output_type": "execute_result"
    }
   ],
   "source": [
    "dfr.shape"
   ]
  },
  {
   "cell_type": "code",
   "execution_count": 287,
   "metadata": {},
   "outputs": [
    {
     "name": "stdout",
     "output_type": "stream",
     "text": [
      "CPU times: user 4.69 s, sys: 138 ms, total: 4.83 s\n",
      "Wall time: 4.83 s\n"
     ]
    }
   ],
   "source": [
    "def mult_row_vals(x):\n",
    "    return (x['vals5']*np.log(abs(x['vals0'])+100) + x['vals15']*np.log(abs(x['vals10'])+100))*25\n",
    "\n",
    "def row_approach(dfr):\n",
    "    return dfr.apply(mult_row_vals, axis=1)\n",
    "\n",
    "%time res = row_approach(dfr.head(100000))"
   ]
  },
  {
   "cell_type": "code",
   "execution_count": 288,
   "metadata": {},
   "outputs": [
    {
     "data": {
      "text/plain": [
       "0    5.220946e+07\n",
       "1    8.106892e+06\n",
       "2    1.055659e+07\n",
       "3    4.318175e+07\n",
       "4   -6.942590e+06\n",
       "dtype: float64"
      ]
     },
     "execution_count": 288,
     "metadata": {},
     "output_type": "execute_result"
    }
   ],
   "source": [
    "res[:5]"
   ]
  },
  {
   "cell_type": "code",
   "execution_count": 289,
   "metadata": {},
   "outputs": [
    {
     "name": "stdout",
     "output_type": "stream",
     "text": [
      "CPU times: user 8.56 ms, sys: 6.06 ms, total: 14.6 ms\n",
      "Wall time: 9.03 ms\n"
     ]
    }
   ],
   "source": [
    "def vect_approach(dfr):\n",
    "    return (dfr['vals5']*np.log(np.abs(dfr['vals0'])+100) + dfr['vals15']*np.log(np.abs(dfr['vals0'])+100))*25\n",
    "\n",
    "%time res = vect_approach(dfr.head(100000)) "
   ]
  },
  {
   "cell_type": "code",
   "execution_count": 290,
   "metadata": {},
   "outputs": [
    {
     "data": {
      "text/plain": [
       "0    5.152457e+07\n",
       "1    7.491559e+06\n",
       "2    1.169490e+07\n",
       "3    4.212103e+07\n",
       "4   -6.932527e+06\n",
       "dtype: float64"
      ]
     },
     "execution_count": 290,
     "metadata": {},
     "output_type": "execute_result"
    }
   ],
   "source": [
    "res[:5]"
   ]
  },
  {
   "cell_type": "markdown",
   "metadata": {},
   "source": [
    "### Concatentating Strings : - USE VECTORS"
   ]
  },
  {
   "cell_type": "code",
   "execution_count": 291,
   "metadata": {
    "collapsed": true
   },
   "outputs": [],
   "source": [
    "def generate_rand_letters(n):\n",
    "    return np.random.choice(list(UPPER_CASE), size= n)\n",
    "\n",
    "def generate_letter_matrix(p, n):\n",
    "    df = pd.DataFrame({'letter0': generate_rand_letters(n)})\n",
    "    for i in range(p):\n",
    "        df['letter'+str(i)] = generate_rand_letters(n)\n",
    "    return df"
   ]
  },
  {
   "cell_type": "code",
   "execution_count": 292,
   "metadata": {
    "collapsed": true
   },
   "outputs": [],
   "source": [
    "p = 15\n",
    "n = 1000000\n",
    "letter_df = generate_letter_matrix(p,n )"
   ]
  },
  {
   "cell_type": "code",
   "execution_count": 293,
   "metadata": {},
   "outputs": [
    {
     "data": {
      "text/html": [
       "<div>\n",
       "<style scoped>\n",
       "    .dataframe tbody tr th:only-of-type {\n",
       "        vertical-align: middle;\n",
       "    }\n",
       "\n",
       "    .dataframe tbody tr th {\n",
       "        vertical-align: top;\n",
       "    }\n",
       "\n",
       "    .dataframe thead th {\n",
       "        text-align: right;\n",
       "    }\n",
       "</style>\n",
       "<table border=\"1\" class=\"dataframe\">\n",
       "  <thead>\n",
       "    <tr style=\"text-align: right;\">\n",
       "      <th></th>\n",
       "      <th>letter0</th>\n",
       "      <th>letter1</th>\n",
       "      <th>letter2</th>\n",
       "      <th>letter3</th>\n",
       "      <th>letter4</th>\n",
       "      <th>letter5</th>\n",
       "      <th>letter6</th>\n",
       "      <th>letter7</th>\n",
       "      <th>letter8</th>\n",
       "      <th>letter9</th>\n",
       "      <th>letter10</th>\n",
       "      <th>letter11</th>\n",
       "      <th>letter12</th>\n",
       "      <th>letter13</th>\n",
       "      <th>letter14</th>\n",
       "    </tr>\n",
       "  </thead>\n",
       "  <tbody>\n",
       "    <tr>\n",
       "      <th>0</th>\n",
       "      <td>W</td>\n",
       "      <td>M</td>\n",
       "      <td>Y</td>\n",
       "      <td>C</td>\n",
       "      <td>Q</td>\n",
       "      <td>H</td>\n",
       "      <td>G</td>\n",
       "      <td>C</td>\n",
       "      <td>M</td>\n",
       "      <td>V</td>\n",
       "      <td>I</td>\n",
       "      <td>D</td>\n",
       "      <td>A</td>\n",
       "      <td>I</td>\n",
       "      <td>K</td>\n",
       "    </tr>\n",
       "    <tr>\n",
       "      <th>1</th>\n",
       "      <td>C</td>\n",
       "      <td>K</td>\n",
       "      <td>I</td>\n",
       "      <td>J</td>\n",
       "      <td>V</td>\n",
       "      <td>Y</td>\n",
       "      <td>W</td>\n",
       "      <td>R</td>\n",
       "      <td>W</td>\n",
       "      <td>M</td>\n",
       "      <td>M</td>\n",
       "      <td>N</td>\n",
       "      <td>T</td>\n",
       "      <td>F</td>\n",
       "      <td>I</td>\n",
       "    </tr>\n",
       "    <tr>\n",
       "      <th>2</th>\n",
       "      <td>Q</td>\n",
       "      <td>F</td>\n",
       "      <td>N</td>\n",
       "      <td>S</td>\n",
       "      <td>Y</td>\n",
       "      <td>R</td>\n",
       "      <td>E</td>\n",
       "      <td>I</td>\n",
       "      <td>A</td>\n",
       "      <td>T</td>\n",
       "      <td>Z</td>\n",
       "      <td>M</td>\n",
       "      <td>N</td>\n",
       "      <td>H</td>\n",
       "      <td>S</td>\n",
       "    </tr>\n",
       "    <tr>\n",
       "      <th>3</th>\n",
       "      <td>C</td>\n",
       "      <td>D</td>\n",
       "      <td>C</td>\n",
       "      <td>V</td>\n",
       "      <td>N</td>\n",
       "      <td>H</td>\n",
       "      <td>D</td>\n",
       "      <td>N</td>\n",
       "      <td>Y</td>\n",
       "      <td>N</td>\n",
       "      <td>E</td>\n",
       "      <td>P</td>\n",
       "      <td>Z</td>\n",
       "      <td>D</td>\n",
       "      <td>M</td>\n",
       "    </tr>\n",
       "    <tr>\n",
       "      <th>4</th>\n",
       "      <td>X</td>\n",
       "      <td>G</td>\n",
       "      <td>B</td>\n",
       "      <td>P</td>\n",
       "      <td>A</td>\n",
       "      <td>F</td>\n",
       "      <td>N</td>\n",
       "      <td>H</td>\n",
       "      <td>F</td>\n",
       "      <td>A</td>\n",
       "      <td>E</td>\n",
       "      <td>U</td>\n",
       "      <td>M</td>\n",
       "      <td>J</td>\n",
       "      <td>D</td>\n",
       "    </tr>\n",
       "    <tr>\n",
       "      <th>5</th>\n",
       "      <td>B</td>\n",
       "      <td>P</td>\n",
       "      <td>F</td>\n",
       "      <td>M</td>\n",
       "      <td>S</td>\n",
       "      <td>O</td>\n",
       "      <td>O</td>\n",
       "      <td>R</td>\n",
       "      <td>B</td>\n",
       "      <td>L</td>\n",
       "      <td>F</td>\n",
       "      <td>N</td>\n",
       "      <td>W</td>\n",
       "      <td>L</td>\n",
       "      <td>W</td>\n",
       "    </tr>\n",
       "    <tr>\n",
       "      <th>6</th>\n",
       "      <td>N</td>\n",
       "      <td>W</td>\n",
       "      <td>Q</td>\n",
       "      <td>T</td>\n",
       "      <td>D</td>\n",
       "      <td>R</td>\n",
       "      <td>C</td>\n",
       "      <td>J</td>\n",
       "      <td>W</td>\n",
       "      <td>A</td>\n",
       "      <td>X</td>\n",
       "      <td>N</td>\n",
       "      <td>W</td>\n",
       "      <td>N</td>\n",
       "      <td>J</td>\n",
       "    </tr>\n",
       "    <tr>\n",
       "      <th>7</th>\n",
       "      <td>F</td>\n",
       "      <td>C</td>\n",
       "      <td>F</td>\n",
       "      <td>E</td>\n",
       "      <td>I</td>\n",
       "      <td>V</td>\n",
       "      <td>Q</td>\n",
       "      <td>D</td>\n",
       "      <td>C</td>\n",
       "      <td>N</td>\n",
       "      <td>H</td>\n",
       "      <td>Z</td>\n",
       "      <td>I</td>\n",
       "      <td>K</td>\n",
       "      <td>J</td>\n",
       "    </tr>\n",
       "    <tr>\n",
       "      <th>8</th>\n",
       "      <td>M</td>\n",
       "      <td>W</td>\n",
       "      <td>P</td>\n",
       "      <td>B</td>\n",
       "      <td>Z</td>\n",
       "      <td>P</td>\n",
       "      <td>U</td>\n",
       "      <td>M</td>\n",
       "      <td>I</td>\n",
       "      <td>T</td>\n",
       "      <td>U</td>\n",
       "      <td>Z</td>\n",
       "      <td>L</td>\n",
       "      <td>D</td>\n",
       "      <td>O</td>\n",
       "    </tr>\n",
       "    <tr>\n",
       "      <th>9</th>\n",
       "      <td>S</td>\n",
       "      <td>H</td>\n",
       "      <td>O</td>\n",
       "      <td>W</td>\n",
       "      <td>Y</td>\n",
       "      <td>B</td>\n",
       "      <td>T</td>\n",
       "      <td>S</td>\n",
       "      <td>A</td>\n",
       "      <td>C</td>\n",
       "      <td>W</td>\n",
       "      <td>H</td>\n",
       "      <td>T</td>\n",
       "      <td>K</td>\n",
       "      <td>M</td>\n",
       "    </tr>\n",
       "  </tbody>\n",
       "</table>\n",
       "</div>"
      ],
      "text/plain": [
       "  letter0 letter1 letter2 letter3 letter4 letter5 letter6 letter7 letter8  \\\n",
       "0       W       M       Y       C       Q       H       G       C       M   \n",
       "1       C       K       I       J       V       Y       W       R       W   \n",
       "2       Q       F       N       S       Y       R       E       I       A   \n",
       "3       C       D       C       V       N       H       D       N       Y   \n",
       "4       X       G       B       P       A       F       N       H       F   \n",
       "5       B       P       F       M       S       O       O       R       B   \n",
       "6       N       W       Q       T       D       R       C       J       W   \n",
       "7       F       C       F       E       I       V       Q       D       C   \n",
       "8       M       W       P       B       Z       P       U       M       I   \n",
       "9       S       H       O       W       Y       B       T       S       A   \n",
       "\n",
       "  letter9 letter10 letter11 letter12 letter13 letter14  \n",
       "0       V        I        D        A        I        K  \n",
       "1       M        M        N        T        F        I  \n",
       "2       T        Z        M        N        H        S  \n",
       "3       N        E        P        Z        D        M  \n",
       "4       A        E        U        M        J        D  \n",
       "5       L        F        N        W        L        W  \n",
       "6       A        X        N        W        N        J  \n",
       "7       N        H        Z        I        K        J  \n",
       "8       T        U        Z        L        D        O  \n",
       "9       C        W        H        T        K        M  "
      ]
     },
     "execution_count": 293,
     "metadata": {},
     "output_type": "execute_result"
    }
   ],
   "source": [
    "letter_df.head(10)"
   ]
  },
  {
   "cell_type": "code",
   "execution_count": 312,
   "metadata": {
    "collapsed": true
   },
   "outputs": [],
   "source": [
    "def row_concat(x):\n",
    "    return ''.join(x.values)\n",
    "\n",
    "def row_wise_concat(df):\n",
    "    res = letter_df.apply(row_concat, axis=1)\n",
    "    return res\n",
    "\n",
    "def vect_concat(df):\n",
    "    res = df[df.columns[0]]\n",
    "    for col in df.columns[1:]:\n",
    "        res = res + df[col]\n",
    "        \n",
    "def vect_concat_np(df):\n",
    "    res = df[df.columns[0]]\n",
    "    for col in df.columns[1:]:\n",
    "        res = np.add(res, df[col])"
   ]
  },
  {
   "cell_type": "code",
   "execution_count": 313,
   "metadata": {},
   "outputs": [
    {
     "name": "stdout",
     "output_type": "stream",
     "text": [
      "CPU times: user 6.96 s, sys: 102 ms, total: 7.06 s\n",
      "Wall time: 7.07 s\n"
     ]
    }
   ],
   "source": [
    "%time res = row_wise_concat(letter_df)"
   ]
  },
  {
   "cell_type": "code",
   "execution_count": 314,
   "metadata": {},
   "outputs": [
    {
     "name": "stdout",
     "output_type": "stream",
     "text": [
      "CPU times: user 1.25 s, sys: 412 ms, total: 1.66 s\n",
      "Wall time: 1.66 s\n"
     ]
    }
   ],
   "source": [
    "%time res = vect_concat(letter_df)"
   ]
  },
  {
   "cell_type": "code",
   "execution_count": 315,
   "metadata": {
    "scrolled": true
   },
   "outputs": [
    {
     "name": "stdout",
     "output_type": "stream",
     "text": [
      "CPU times: user 1.2 s, sys: 337 ms, total: 1.54 s\n",
      "Wall time: 1.54 s\n"
     ]
    }
   ],
   "source": [
    "%time res = vect_concat_np(letter_df)"
   ]
  },
  {
   "cell_type": "markdown",
   "metadata": {},
   "source": [
    "### how to do vectorized Booleans"
   ]
  },
  {
   "cell_type": "code",
   "execution_count": 91,
   "metadata": {},
   "outputs": [
    {
     "name": "stdout",
     "output_type": "stream",
     "text": [
      "CPU times: user 162 ms, sys: 23.1 ms, total: 185 ms\n",
      "Wall time: 183 ms\n"
     ]
    },
    {
     "data": {
      "text/plain": [
       "greater    999880\n",
       "lesser     998163\n",
       "middle       1957\n",
       "Name: bools, dtype: int64"
      ]
     },
     "execution_count": 91,
     "metadata": {},
     "output_type": "execute_result"
    }
   ],
   "source": [
    "def vector_bool(dfr):\n",
    "    dfr.loc[dfr['vals0'] > 0 ,'bools'] = 'greater'\n",
    "    dfr.loc[(dfr['vals0'] < 0) & (dfr['vals0'] > -200) ,'bools'] = 'middle'\n",
    "    dfr.loc[dfr['vals0'] <= -200 ,'bools'] = 'lesser'\n",
    "    \n",
    "%time vector_bool(dfr)\n",
    "dfr['bools'].value_counts()"
   ]
  },
  {
   "cell_type": "code",
   "execution_count": 92,
   "metadata": {},
   "outputs": [
    {
     "name": "stdout",
     "output_type": "stream",
     "text": [
      "CPU times: user 463 ms, sys: 30.6 ms, total: 493 ms\n",
      "Wall time: 491 ms\n"
     ]
    },
    {
     "data": {
      "text/plain": [
       "greater    999880\n",
       "lesser     998163\n",
       "middle       1957\n",
       "Name: bools, dtype: int64"
      ]
     },
     "execution_count": 92,
     "metadata": {},
     "output_type": "execute_result"
    }
   ],
   "source": [
    "def row_bool(dfr):\n",
    "    dfr['bools'] = dfr['vals0'].map(lambda x : 'greater' if x > 0 else 'middle' if x > -200 else 'lesser')\n",
    "    \n",
    "%time row_bool(dfr)\n",
    "dfr['bools'].value_counts()"
   ]
  },
  {
   "cell_type": "markdown",
   "metadata": {},
   "source": [
    "### Category Encoding - use category accessor"
   ]
  },
  {
   "cell_type": "code",
   "execution_count": 27,
   "metadata": {},
   "outputs": [
    {
     "name": "stdout",
     "output_type": "stream",
     "text": [
      "\n",
      "(2000000, 51)\n"
     ]
    },
    {
     "data": {
      "text/html": [
       "<div>\n",
       "<style scoped>\n",
       "    .dataframe tbody tr th:only-of-type {\n",
       "        vertical-align: middle;\n",
       "    }\n",
       "\n",
       "    .dataframe tbody tr th {\n",
       "        vertical-align: top;\n",
       "    }\n",
       "\n",
       "    .dataframe thead th {\n",
       "        text-align: right;\n",
       "    }\n",
       "</style>\n",
       "<table border=\"1\" class=\"dataframe\">\n",
       "  <thead>\n",
       "    <tr style=\"text-align: right;\">\n",
       "      <th></th>\n",
       "      <th>labels</th>\n",
       "      <th>vals0</th>\n",
       "      <th>vals1</th>\n",
       "      <th>vals2</th>\n",
       "      <th>vals3</th>\n",
       "      <th>vals4</th>\n",
       "      <th>vals5</th>\n",
       "      <th>vals6</th>\n",
       "      <th>vals7</th>\n",
       "      <th>vals8</th>\n",
       "      <th>...</th>\n",
       "      <th>vals40</th>\n",
       "      <th>vals41</th>\n",
       "      <th>vals42</th>\n",
       "      <th>vals43</th>\n",
       "      <th>vals44</th>\n",
       "      <th>vals45</th>\n",
       "      <th>vals46</th>\n",
       "      <th>vals47</th>\n",
       "      <th>vals48</th>\n",
       "      <th>vals49</th>\n",
       "    </tr>\n",
       "  </thead>\n",
       "  <tbody>\n",
       "    <tr>\n",
       "      <th>0</th>\n",
       "      <td>G</td>\n",
       "      <td>84697</td>\n",
       "      <td>-72535</td>\n",
       "      <td>-79252</td>\n",
       "      <td>66810</td>\n",
       "      <td>-31657</td>\n",
       "      <td>79770</td>\n",
       "      <td>-10382</td>\n",
       "      <td>83983</td>\n",
       "      <td>-43936</td>\n",
       "      <td>...</td>\n",
       "      <td>54208</td>\n",
       "      <td>45397</td>\n",
       "      <td>51916</td>\n",
       "      <td>76551</td>\n",
       "      <td>-60219</td>\n",
       "      <td>2483</td>\n",
       "      <td>-58132</td>\n",
       "      <td>29829</td>\n",
       "      <td>64332</td>\n",
       "      <td>-41015</td>\n",
       "    </tr>\n",
       "    <tr>\n",
       "      <th>1</th>\n",
       "      <td>E</td>\n",
       "      <td>66406</td>\n",
       "      <td>-76606</td>\n",
       "      <td>65406</td>\n",
       "      <td>-76517</td>\n",
       "      <td>8948</td>\n",
       "      <td>-7719</td>\n",
       "      <td>22714</td>\n",
       "      <td>-66707</td>\n",
       "      <td>83393</td>\n",
       "      <td>...</td>\n",
       "      <td>-42096</td>\n",
       "      <td>-44625</td>\n",
       "      <td>-99786</td>\n",
       "      <td>35159</td>\n",
       "      <td>5530</td>\n",
       "      <td>-52786</td>\n",
       "      <td>-18621</td>\n",
       "      <td>86401</td>\n",
       "      <td>71263</td>\n",
       "      <td>-80929</td>\n",
       "    </tr>\n",
       "    <tr>\n",
       "      <th>2</th>\n",
       "      <td>E</td>\n",
       "      <td>-25024</td>\n",
       "      <td>40538</td>\n",
       "      <td>67674</td>\n",
       "      <td>-58861</td>\n",
       "      <td>-54072</td>\n",
       "      <td>21152</td>\n",
       "      <td>78808</td>\n",
       "      <td>61342</td>\n",
       "      <td>41094</td>\n",
       "      <td>...</td>\n",
       "      <td>-11527</td>\n",
       "      <td>3601</td>\n",
       "      <td>-48855</td>\n",
       "      <td>98523</td>\n",
       "      <td>83312</td>\n",
       "      <td>21122</td>\n",
       "      <td>-27876</td>\n",
       "      <td>-15545</td>\n",
       "      <td>-89940</td>\n",
       "      <td>18302</td>\n",
       "    </tr>\n",
       "    <tr>\n",
       "      <th>3</th>\n",
       "      <td>E</td>\n",
       "      <td>-12245</td>\n",
       "      <td>76198</td>\n",
       "      <td>-83930</td>\n",
       "      <td>36266</td>\n",
       "      <td>-13695</td>\n",
       "      <td>67471</td>\n",
       "      <td>-33862</td>\n",
       "      <td>81932</td>\n",
       "      <td>32315</td>\n",
       "      <td>...</td>\n",
       "      <td>-92763</td>\n",
       "      <td>45019</td>\n",
       "      <td>-92581</td>\n",
       "      <td>-10273</td>\n",
       "      <td>-64823</td>\n",
       "      <td>-20734</td>\n",
       "      <td>-45269</td>\n",
       "      <td>-62873</td>\n",
       "      <td>39364</td>\n",
       "      <td>34986</td>\n",
       "    </tr>\n",
       "    <tr>\n",
       "      <th>4</th>\n",
       "      <td>F</td>\n",
       "      <td>69620</td>\n",
       "      <td>-33704</td>\n",
       "      <td>-44604</td>\n",
       "      <td>-27128</td>\n",
       "      <td>12023</td>\n",
       "      <td>-38341</td>\n",
       "      <td>-69285</td>\n",
       "      <td>-24263</td>\n",
       "      <td>-56125</td>\n",
       "      <td>...</td>\n",
       "      <td>-19291</td>\n",
       "      <td>-99282</td>\n",
       "      <td>-69234</td>\n",
       "      <td>35442</td>\n",
       "      <td>-41397</td>\n",
       "      <td>80520</td>\n",
       "      <td>38994</td>\n",
       "      <td>-91468</td>\n",
       "      <td>96107</td>\n",
       "      <td>-13626</td>\n",
       "    </tr>\n",
       "  </tbody>\n",
       "</table>\n",
       "<p>5 rows × 51 columns</p>\n",
       "</div>"
      ],
      "text/plain": [
       "  labels  vals0  vals1  vals2  vals3  vals4  vals5  vals6  vals7  vals8  \\\n",
       "0      G  84697 -72535 -79252  66810 -31657  79770 -10382  83983 -43936   \n",
       "1      E  66406 -76606  65406 -76517   8948  -7719  22714 -66707  83393   \n",
       "2      E -25024  40538  67674 -58861 -54072  21152  78808  61342  41094   \n",
       "3      E -12245  76198 -83930  36266 -13695  67471 -33862  81932  32315   \n",
       "4      F  69620 -33704 -44604 -27128  12023 -38341 -69285 -24263 -56125   \n",
       "\n",
       "    ...    vals40  vals41  vals42  vals43  vals44  vals45  vals46  vals47  \\\n",
       "0   ...     54208   45397   51916   76551  -60219    2483  -58132   29829   \n",
       "1   ...    -42096  -44625  -99786   35159    5530  -52786  -18621   86401   \n",
       "2   ...    -11527    3601  -48855   98523   83312   21122  -27876  -15545   \n",
       "3   ...    -92763   45019  -92581  -10273  -64823  -20734  -45269  -62873   \n",
       "4   ...    -19291  -99282  -69234   35442  -41397   80520   38994  -91468   \n",
       "\n",
       "   vals48  vals49  \n",
       "0   64332  -41015  \n",
       "1   71263  -80929  \n",
       "2  -89940   18302  \n",
       "3   39364   34986  \n",
       "4   96107  -13626  \n",
       "\n",
       "[5 rows x 51 columns]"
      ]
     },
     "execution_count": 27,
     "metadata": {},
     "output_type": "execute_result"
    }
   ],
   "source": [
    "def generate_df2(p = 4, size= 5000000):\n",
    "    letters = np.random.choice(list(UPPER_CASE), size= size)\n",
    "    letters2 = np.random.choice(list(UPPER_CASE), size= size)\n",
    "    print()\n",
    "    letters3 = np.core.defchararray.add(letters, letters2)\n",
    "    df = pd.DataFrame({'labels': letters3})\n",
    "    for i in range(p):\n",
    "        df['vals'+str(i)] = generate_vals(size)\n",
    "    return df\n",
    "\n",
    "dfr2 = generate_df2()\n",
    "\n",
    "print(dfr.shape)\n",
    "dfr.head()"
   ]
  },
  {
   "cell_type": "code",
   "execution_count": 34,
   "metadata": {},
   "outputs": [
    {
     "name": "stdout",
     "output_type": "stream",
     "text": [
      "CPU times: user 594 ms, sys: 59.6 ms, total: 654 ms\n",
      "Wall time: 654 ms\n"
     ]
    }
   ],
   "source": [
    "def encode_cats(dfr):\n",
    "    lkup = {v:i for i,v in enumerate(dfr['labels'].unique())}\n",
    "    return(dfr2['labels'].map(lkup))\n",
    "\n",
    "%time enc_col = encode_cats(dfr)"
   ]
  },
  {
   "cell_type": "code",
   "execution_count": 35,
   "metadata": {},
   "outputs": [
    {
     "name": "stdout",
     "output_type": "stream",
     "text": [
      "CPU times: user 247 ms, sys: 47.3 ms, total: 294 ms\n",
      "Wall time: 292 ms\n"
     ]
    }
   ],
   "source": [
    "%time enc_col = dfr2['labels'].astype('category').cat.codes"
   ]
  },
  {
   "cell_type": "markdown",
   "metadata": {},
   "source": [
    "### What about Numba? - Group by Example"
   ]
  },
  {
   "cell_type": "code",
   "execution_count": 30,
   "metadata": {
    "collapsed": true
   },
   "outputs": [],
   "source": [
    "import numba\n",
    "from collections import defaultdict\n",
    "import datetime"
   ]
  },
  {
   "cell_type": "code",
   "execution_count": 36,
   "metadata": {
    "scrolled": true
   },
   "outputs": [
    {
     "data": {
      "text/html": [
       "<div>\n",
       "<style scoped>\n",
       "    .dataframe tbody tr th:only-of-type {\n",
       "        vertical-align: middle;\n",
       "    }\n",
       "\n",
       "    .dataframe tbody tr th {\n",
       "        vertical-align: top;\n",
       "    }\n",
       "\n",
       "    .dataframe thead th {\n",
       "        text-align: right;\n",
       "    }\n",
       "</style>\n",
       "<table border=\"1\" class=\"dataframe\">\n",
       "  <thead>\n",
       "    <tr style=\"text-align: right;\">\n",
       "      <th></th>\n",
       "      <th>labels</th>\n",
       "      <th>vals0</th>\n",
       "      <th>vals1</th>\n",
       "      <th>vals2</th>\n",
       "      <th>vals3</th>\n",
       "    </tr>\n",
       "  </thead>\n",
       "  <tbody>\n",
       "    <tr>\n",
       "      <th>0</th>\n",
       "      <td>GJ</td>\n",
       "      <td>-1342885</td>\n",
       "      <td>-3092600</td>\n",
       "      <td>4632122</td>\n",
       "      <td>-4310428</td>\n",
       "    </tr>\n",
       "    <tr>\n",
       "      <th>1</th>\n",
       "      <td>BD</td>\n",
       "      <td>-4085191</td>\n",
       "      <td>-276194</td>\n",
       "      <td>-937774</td>\n",
       "      <td>-3396087</td>\n",
       "    </tr>\n",
       "    <tr>\n",
       "      <th>2</th>\n",
       "      <td>DN</td>\n",
       "      <td>2705057</td>\n",
       "      <td>-2136860</td>\n",
       "      <td>4743671</td>\n",
       "      <td>-364644</td>\n",
       "    </tr>\n",
       "    <tr>\n",
       "      <th>3</th>\n",
       "      <td>IQ</td>\n",
       "      <td>-4749400</td>\n",
       "      <td>3746472</td>\n",
       "      <td>-4259509</td>\n",
       "      <td>555150</td>\n",
       "    </tr>\n",
       "    <tr>\n",
       "      <th>4</th>\n",
       "      <td>KP</td>\n",
       "      <td>-2214651</td>\n",
       "      <td>1551929</td>\n",
       "      <td>1889357</td>\n",
       "      <td>2656194</td>\n",
       "    </tr>\n",
       "  </tbody>\n",
       "</table>\n",
       "</div>"
      ],
      "text/plain": [
       "  labels    vals0    vals1    vals2    vals3\n",
       "0     GJ -1342885 -3092600  4632122 -4310428\n",
       "1     BD -4085191  -276194  -937774 -3396087\n",
       "2     DN  2705057 -2136860  4743671  -364644\n",
       "3     IQ -4749400  3746472 -4259509   555150\n",
       "4     KP -2214651  1551929  1889357  2656194"
      ]
     },
     "execution_count": 36,
     "metadata": {},
     "output_type": "execute_result"
    }
   ],
   "source": [
    "dfr2.head()"
   ]
  },
  {
   "cell_type": "code",
   "execution_count": 38,
   "metadata": {},
   "outputs": [
    {
     "name": "stdout",
     "output_type": "stream",
     "text": [
      "CPU times: user 383 ms, sys: 182 ms, total: 565 ms\n",
      "Wall time: 564 ms\n"
     ]
    }
   ],
   "source": [
    "%time res = dfr2.groupby('labels')['vals0'].sum()"
   ]
  },
  {
   "cell_type": "code",
   "execution_count": 39,
   "metadata": {
    "scrolled": false
   },
   "outputs": [
    {
     "name": "stdout",
     "output_type": "stream",
     "text": [
      "CPU times: user 240 ms, sys: 62.3 ms, total: 302 ms\n",
      "Wall time: 317 ms\n"
     ]
    }
   ],
   "source": [
    "def groupby_python(index, value, output):\n",
    "    for i in range(index.shape[0]):\n",
    "        output[index[i]] += value[i]\n",
    "        \n",
    "groupby_numba = numba.jit(groupby_python, nopython=True)\n",
    "\n",
    "m_numba = np.zeros_like(res)\n",
    "\n",
    "dfr2_c = dfr2.copy()\n",
    "dfr2_c['labels'] = dfr2_c['labels'].astype('category').cat.codes \n",
    "\n",
    "%time groupby_numba(np.array(dfr2_c['labels'].values), np.array(dfr2_c['vals0'].values), m_numba)"
   ]
  },
  {
   "cell_type": "markdown",
   "metadata": {},
   "source": [
    "### What about Numba? Row Sum Example"
   ]
  },
  {
   "cell_type": "code",
   "execution_count": 45,
   "metadata": {},
   "outputs": [
    {
     "data": {
      "text/html": [
       "<div>\n",
       "<style scoped>\n",
       "    .dataframe tbody tr th:only-of-type {\n",
       "        vertical-align: middle;\n",
       "    }\n",
       "\n",
       "    .dataframe tbody tr th {\n",
       "        vertical-align: top;\n",
       "    }\n",
       "\n",
       "    .dataframe thead th {\n",
       "        text-align: right;\n",
       "    }\n",
       "</style>\n",
       "<table border=\"1\" class=\"dataframe\">\n",
       "  <thead>\n",
       "    <tr style=\"text-align: right;\">\n",
       "      <th></th>\n",
       "      <th>vals</th>\n",
       "      <th>vals0</th>\n",
       "      <th>vals1</th>\n",
       "      <th>vals2</th>\n",
       "      <th>vals3</th>\n",
       "      <th>vals4</th>\n",
       "      <th>vals5</th>\n",
       "      <th>vals6</th>\n",
       "      <th>vals7</th>\n",
       "      <th>vals8</th>\n",
       "      <th>...</th>\n",
       "      <th>vals10</th>\n",
       "      <th>vals11</th>\n",
       "      <th>vals12</th>\n",
       "      <th>vals13</th>\n",
       "      <th>vals14</th>\n",
       "      <th>vals15</th>\n",
       "      <th>vals16</th>\n",
       "      <th>vals17</th>\n",
       "      <th>vals18</th>\n",
       "      <th>vals19</th>\n",
       "    </tr>\n",
       "  </thead>\n",
       "  <tbody>\n",
       "    <tr>\n",
       "      <th>0</th>\n",
       "      <td>3862</td>\n",
       "      <td>7611</td>\n",
       "      <td>-8525</td>\n",
       "      <td>-4328</td>\n",
       "      <td>5113</td>\n",
       "      <td>5135</td>\n",
       "      <td>6319</td>\n",
       "      <td>6406</td>\n",
       "      <td>-1455</td>\n",
       "      <td>8028</td>\n",
       "      <td>...</td>\n",
       "      <td>-1698</td>\n",
       "      <td>5461</td>\n",
       "      <td>-5913</td>\n",
       "      <td>8405</td>\n",
       "      <td>6067</td>\n",
       "      <td>1198</td>\n",
       "      <td>-6378</td>\n",
       "      <td>5147</td>\n",
       "      <td>-9182</td>\n",
       "      <td>8957</td>\n",
       "    </tr>\n",
       "    <tr>\n",
       "      <th>1</th>\n",
       "      <td>6325</td>\n",
       "      <td>7601</td>\n",
       "      <td>-3601</td>\n",
       "      <td>6364</td>\n",
       "      <td>-8801</td>\n",
       "      <td>-7859</td>\n",
       "      <td>607</td>\n",
       "      <td>-1990</td>\n",
       "      <td>-7881</td>\n",
       "      <td>-2241</td>\n",
       "      <td>...</td>\n",
       "      <td>6174</td>\n",
       "      <td>-695</td>\n",
       "      <td>-4420</td>\n",
       "      <td>-6247</td>\n",
       "      <td>-6095</td>\n",
       "      <td>9429</td>\n",
       "      <td>5414</td>\n",
       "      <td>-3339</td>\n",
       "      <td>7779</td>\n",
       "      <td>-4534</td>\n",
       "    </tr>\n",
       "    <tr>\n",
       "      <th>2</th>\n",
       "      <td>-847</td>\n",
       "      <td>-8953</td>\n",
       "      <td>112</td>\n",
       "      <td>-8245</td>\n",
       "      <td>-7096</td>\n",
       "      <td>-9238</td>\n",
       "      <td>-55</td>\n",
       "      <td>-9273</td>\n",
       "      <td>5156</td>\n",
       "      <td>-7337</td>\n",
       "      <td>...</td>\n",
       "      <td>-3351</td>\n",
       "      <td>6037</td>\n",
       "      <td>2812</td>\n",
       "      <td>1336</td>\n",
       "      <td>350</td>\n",
       "      <td>-7260</td>\n",
       "      <td>2680</td>\n",
       "      <td>-168</td>\n",
       "      <td>1824</td>\n",
       "      <td>-6986</td>\n",
       "    </tr>\n",
       "    <tr>\n",
       "      <th>3</th>\n",
       "      <td>6306</td>\n",
       "      <td>-2072</td>\n",
       "      <td>-2165</td>\n",
       "      <td>1156</td>\n",
       "      <td>-5262</td>\n",
       "      <td>-7942</td>\n",
       "      <td>-5729</td>\n",
       "      <td>-6968</td>\n",
       "      <td>4574</td>\n",
       "      <td>-426</td>\n",
       "      <td>...</td>\n",
       "      <td>2039</td>\n",
       "      <td>-4383</td>\n",
       "      <td>7946</td>\n",
       "      <td>-4554</td>\n",
       "      <td>-2215</td>\n",
       "      <td>7018</td>\n",
       "      <td>3073</td>\n",
       "      <td>-2190</td>\n",
       "      <td>7119</td>\n",
       "      <td>-9152</td>\n",
       "    </tr>\n",
       "    <tr>\n",
       "      <th>4</th>\n",
       "      <td>-3031</td>\n",
       "      <td>739</td>\n",
       "      <td>-5406</td>\n",
       "      <td>4266</td>\n",
       "      <td>-6549</td>\n",
       "      <td>7769</td>\n",
       "      <td>4829</td>\n",
       "      <td>-259</td>\n",
       "      <td>-9579</td>\n",
       "      <td>-6760</td>\n",
       "      <td>...</td>\n",
       "      <td>5068</td>\n",
       "      <td>-8643</td>\n",
       "      <td>-7649</td>\n",
       "      <td>-5893</td>\n",
       "      <td>-4074</td>\n",
       "      <td>-679</td>\n",
       "      <td>-2980</td>\n",
       "      <td>-9623</td>\n",
       "      <td>7041</td>\n",
       "      <td>4583</td>\n",
       "    </tr>\n",
       "  </tbody>\n",
       "</table>\n",
       "<p>5 rows × 21 columns</p>\n",
       "</div>"
      ],
      "text/plain": [
       "   vals  vals0  vals1  vals2  vals3  vals4  vals5  vals6  vals7  vals8  \\\n",
       "0  3862   7611  -8525  -4328   5113   5135   6319   6406  -1455   8028   \n",
       "1  6325   7601  -3601   6364  -8801  -7859    607  -1990  -7881  -2241   \n",
       "2  -847  -8953    112  -8245  -7096  -9238    -55  -9273   5156  -7337   \n",
       "3  6306  -2072  -2165   1156  -5262  -7942  -5729  -6968   4574   -426   \n",
       "4 -3031    739  -5406   4266  -6549   7769   4829   -259  -9579  -6760   \n",
       "\n",
       "    ...    vals10  vals11  vals12  vals13  vals14  vals15  vals16  vals17  \\\n",
       "0   ...     -1698    5461   -5913    8405    6067    1198   -6378    5147   \n",
       "1   ...      6174    -695   -4420   -6247   -6095    9429    5414   -3339   \n",
       "2   ...     -3351    6037    2812    1336     350   -7260    2680    -168   \n",
       "3   ...      2039   -4383    7946   -4554   -2215    7018    3073   -2190   \n",
       "4   ...      5068   -8643   -7649   -5893   -4074    -679   -2980   -9623   \n",
       "\n",
       "   vals18  vals19  \n",
       "0   -9182    8957  \n",
       "1    7779   -4534  \n",
       "2    1824   -6986  \n",
       "3    7119   -9152  \n",
       "4    7041    4583  \n",
       "\n",
       "[5 rows x 21 columns]"
      ]
     },
     "execution_count": 45,
     "metadata": {},
     "output_type": "execute_result"
    }
   ],
   "source": [
    "def generate_df(p = 20, size= 10000):\n",
    "    letters = np.random.choice(list(UPPER_CASE), size= size)\n",
    "    df = pd.DataFrame({'vals': generate_vals(size)})\n",
    "    for i in range(p):\n",
    "        df['vals'+str(i)] = generate_vals(size)\n",
    "    return df\n",
    "\n",
    "dfr_nums = generate_df()\n",
    "dfr_nums.head()"
   ]
  },
  {
   "cell_type": "code",
   "execution_count": 56,
   "metadata": {},
   "outputs": [
    {
     "name": "stdout",
     "output_type": "stream",
     "text": [
      "CPU times: user 2.22 ms, sys: 1.34 ms, total: 3.56 ms\n",
      "Wall time: 1.72 ms\n"
     ]
    }
   ],
   "source": [
    "%time res = dfr_nums.sum(axis=1)"
   ]
  },
  {
   "cell_type": "code",
   "execution_count": 63,
   "metadata": {
    "scrolled": false
   },
   "outputs": [
    {
     "name": "stdout",
     "output_type": "stream",
     "text": [
      "CPU times: user 135 ms, sys: 3.56 ms, total: 139 ms\n",
      "Wall time: 137 ms\n"
     ]
    }
   ],
   "source": [
    "def rowsums_python(matrix, output):\n",
    "    for i in range(matrix.shape[0]):\n",
    "        row_sum = 0\n",
    "        for j in range(matrix.shape[1]):\n",
    "            row_sum += matrix[i,j]\n",
    "        output[i] = row_sum\n",
    "    return output\n",
    "\n",
    "rowsums_numba = numba.jit(rowsums_python, nopython=True)\n",
    "\n",
    "mtrx = dfr_nums.as_matrix()\n",
    "m_numba = np.zeros(mtrx.shape[0])\n",
    "\n",
    "%time res = rowsums_numba(mtrx, m_numba)\n"
   ]
  },
  {
   "cell_type": "markdown",
   "metadata": {},
   "source": [
    "### Vectorized Numba Add"
   ]
  },
  {
   "cell_type": "code",
   "execution_count": 69,
   "metadata": {
    "collapsed": true
   },
   "outputs": [],
   "source": [
    "x = np.random.random(1000000)\n",
    "y = np.random.random(1000000)"
   ]
  },
  {
   "cell_type": "code",
   "execution_count": 72,
   "metadata": {},
   "outputs": [
    {
     "name": "stdout",
     "output_type": "stream",
     "text": [
      "CPU times: user 3.08 ms, sys: 1.68 ms, total: 4.77 ms\n",
      "Wall time: 3.11 ms\n"
     ]
    },
    {
     "data": {
      "text/plain": [
       "array([ 0.4723531 ,  0.84313548,  0.64643165, ...,  1.45630092,\n",
       "        0.54166015,  0.22555774])"
      ]
     },
     "execution_count": 72,
     "metadata": {},
     "output_type": "execute_result"
    }
   ],
   "source": [
    "%time x+y"
   ]
  },
  {
   "cell_type": "code",
   "execution_count": 75,
   "metadata": {},
   "outputs": [
    {
     "name": "stdout",
     "output_type": "stream",
     "text": [
      "CPU times: user 70.8 ms, sys: 4.39 ms, total: 75.2 ms\n",
      "Wall time: 73.9 ms\n"
     ]
    },
    {
     "data": {
      "text/plain": [
       "array([ 0.4723531 ,  0.84313548,  0.64643165, ...,  1.45630092,\n",
       "        0.54166015,  0.22555774])"
      ]
     },
     "execution_count": 75,
     "metadata": {},
     "output_type": "execute_result"
    }
   ],
   "source": [
    "from numba import vectorize\n",
    "@vectorize\n",
    "def numba_add(x,y):\n",
    "    return x + y\n",
    "\n",
    "%time numba_add(x,y)\n",
    "    "
   ]
  },
  {
   "cell_type": "code",
   "execution_count": null,
   "metadata": {
    "collapsed": true
   },
   "outputs": [],
   "source": []
  }
 ],
 "metadata": {
  "kernelspec": {
   "display_name": "Python 3",
   "language": "python",
   "name": "python3"
  },
  "language_info": {
   "codemirror_mode": {
    "name": "ipython",
    "version": 3
   },
   "file_extension": ".py",
   "mimetype": "text/x-python",
   "name": "python",
   "nbconvert_exporter": "python",
   "pygments_lexer": "ipython3",
   "version": "3.6.3"
  }
 },
 "nbformat": 4,
 "nbformat_minor": 2
}
