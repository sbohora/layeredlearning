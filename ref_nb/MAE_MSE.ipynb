{
 "cells": [
  {
   "cell_type": "code",
   "execution_count": 23,
   "metadata": {},
   "outputs": [],
   "source": [
    "import numpy as np\n",
    "import matplotlib.pyplot as plt\n",
    "from sklearn.linear_model import LinearRegression\n",
    "%matplotlib inline"
   ]
  },
  {
   "cell_type": "code",
   "execution_count": 50,
   "metadata": {},
   "outputs": [],
   "source": [
    "# number of points to generate\n",
    "n_values = 40\n",
    "\n",
    "# setup some simple values\n",
    "x_obs = np.array(range(n_values))\n",
    "y_obs = np.array(range(n_values))\n",
    "np.random.seed(3)\n",
    "\n",
    "# we don't want a perfect dataset, so we will add some random noise (2nd term)\n",
    "y_obs_noise = 5*y_obs + 70*np.random.rand(n_values)\n",
    "\n",
    "# add 2 outliers\n",
    "x_obs = np.append(x_obs,3)\n",
    "y_obs_noise = np.append(y_obs_noise, 375)\n",
    "#x_obs = np.append(x_obs,5)\n",
    "#y_obs_noise = np.append(y_obs_noise, 400)"
   ]
  },
  {
   "cell_type": "code",
   "execution_count": 51,
   "metadata": {},
   "outputs": [
    {
     "data": {
      "text/plain": [
       "array([  38.55585318,   54.57034758,   30.36333172,   50.75793236,\n",
       "         82.5062868 ,   87.74051623,   38.79097173,   49.50700147,\n",
       "         43.60270423,   75.85668906,   52.09133476,   86.97832571,\n",
       "        105.44008333,   84.49410979,  117.33784314,  116.36039722,\n",
       "         81.67873177,  124.11978616,  108.14767128,  124.05708379,\n",
       "        119.84675572,  153.51965428,  140.83176024,  125.98074169,\n",
       "        158.12543126,  179.62203352,  151.44544727,  150.53705188,\n",
       "        167.15798803,  210.54685549,  218.31967957,  202.06685731,\n",
       "        223.1983876 ,  224.20256099,  196.45958289,  181.45519062,\n",
       "        225.73876318,  224.04885337,  215.30953341,  210.75381534,  375.        ])"
      ]
     },
     "execution_count": 51,
     "metadata": {},
     "output_type": "execute_result"
    }
   ],
   "source": [
    "y_obs_noise"
   ]
  },
  {
   "cell_type": "code",
   "execution_count": 52,
   "metadata": {},
   "outputs": [
    {
     "data": {
      "text/plain": [
       "<matplotlib.collections.PathCollection at 0x1a11e40a20>"
      ]
     },
     "execution_count": 52,
     "metadata": {},
     "output_type": "execute_result"
    },
    {
     "data": {
      "image/png": "[encoded data removed]",
      "text/plain": [
       "<matplotlib.figure.Figure at 0x1a11e2ac88>"
      ]
     },
     "metadata": {},
     "output_type": "display_data"
    }
   ],
   "source": [
    "plt.scatter(x_obs, y_obs_noise)"
   ]
  },
  {
   "cell_type": "code",
   "execution_count": 88,
   "metadata": {},
   "outputs": [],
   "source": [
    "y_pred1 = 50 + 15*x_obs\n",
    "y_pred2 = 50 + 10*x_obs\n",
    "y_pred3 = 50 + 5*x_obs"
   ]
  },
  {
   "cell_type": "code",
   "execution_count": 89,
   "metadata": {},
   "outputs": [
    {
     "data": {
      "text/plain": [
       "<matplotlib.collections.PathCollection at 0x1a12723940>"
      ]
     },
     "execution_count": 89,
     "metadata": {},
     "output_type": "execute_result"
    },
    {
     "data": {
      "image/png": "[encoded data removed]",
      "text/plain": [
       "<matplotlib.figure.Figure at 0x1a1266ec50>"
      ]
     },
     "metadata": {},
     "output_type": "display_data"
    }
   ],
   "source": [
    "plt.scatter(x_obs, y_obs_noise)\n",
    "plt.scatter(x_obs, y_pred1, c='red')\n",
    "plt.scatter(x_obs, y_pred2, c='orange')\n",
    "plt.scatter(x_obs, y_pred3, c='green')"
   ]
  },
  {
   "cell_type": "code",
   "execution_count": 93,
   "metadata": {},
   "outputs": [],
   "source": [
    "mse1 = np.mean((y_pred1-y_obs_noise)**2)\n",
    "mae1 = np.mean(abs(y_pred1-y_obs_noise))\n",
    "mse2 = np.mean((y_pred2-y_obs_noise)**2)\n",
    "mae2 = np.mean(abs(y_pred2-y_obs_noise))\n",
    "mse3 = np.mean((y_pred3-y_obs_noise)**2)\n",
    "mae3 = np.mean(abs(y_pred3-y_obs_noise))"
   ]
  },
  {
   "cell_type": "code",
   "execution_count": 94,
   "metadata": {},
   "outputs": [
    {
     "data": {
      "text/plain": [
       "(58581.888425827834,\n",
       " 18241.211815461265,\n",
       " 54.408559093727796,\n",
       " 213.36283061034104,\n",
       " 118.60673304936546,\n",
       " 28.05240720531755)"
      ]
     },
     "execution_count": 94,
     "metadata": {},
     "output_type": "execute_result"
    }
   ],
   "source": [
    "mse1, mse2, np.sqrt(mse3), mae1, mae2, mae3"
   ]
  },
  {
   "cell_type": "code",
   "execution_count": null,
   "metadata": {},
   "outputs": [],
   "source": []
  },
  {
   "cell_type": "code",
   "execution_count": null,
   "metadata": {},
   "outputs": [],
   "source": []
  }
 ],
 "metadata": {
  "kernelspec": {
   "display_name": "Python 3",
   "language": "python",
   "name": "python3"
  },
  "language_info": {
   "codemirror_mode": {
    "name": "ipython",
    "version": 3
   },
   "file_extension": ".py",
   "mimetype": "text/x-python",
   "name": "python",
   "nbconvert_exporter": "python",
   "pygments_lexer": "ipython3",
   "version": "3.6.3"
  }
 },
 "nbformat": 4,
 "nbformat_minor": 2
}
